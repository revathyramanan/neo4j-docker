{
 "cells": [
  {
   "cell_type": "code",
   "execution_count": 1,
   "id": "12934d1e-46f3-49e3-9185-32bcae9415eb",
   "metadata": {},
   "outputs": [
    {
     "data": {
      "text/plain": [
       "'\\nThis notebook contains code that loads the data in batches to neo4j\\nIt is dependent on the intermediate csv files created and stored in raw_data/nodes and raw_data/relationships\\n'"
      ]
     },
     "execution_count": 1,
     "metadata": {},
     "output_type": "execute_result"
    }
   ],
   "source": [
    "\"\"\"\n",
    "This notebook contains code that loads the data in batches to neo4j\n",
    "It is dependent on the intermediate csv files created and stored in raw_data/nodes and raw_data/relationships\n",
    "\"\"\""
   ]
  },
  {
   "cell_type": "code",
   "execution_count": 29,
   "id": "df19f68f-d443-4d8e-a5ab-4bd5a987ebfc",
   "metadata": {},
   "outputs": [
    {
     "name": "stdout",
     "output_type": "stream",
     "text": [
      "Import Successful\n"
     ]
    }
   ],
   "source": [
    "from neo4j import GraphDatabase\n",
    "import os\n",
    "import pandas as pd\n",
    "import time\n",
    "import json\n",
    "import random\n",
    "print(\"Import Successful\")"
   ]
  },
  {
   "cell_type": "code",
   "execution_count": 30,
   "id": "c7e73647-6dc9-487d-a49b-02c246972218",
   "metadata": {},
   "outputs": [],
   "source": [
    "# Gets the values from .env file\n",
    "URI = os.environ[\"NEO4J_URI\"]\n",
    "USER=os.environ[\"NEO4J_USER_NAME\"]\n",
    "PASSWORD=os.environ[\"NEO4J_PASSWD\"]\n",
    "AUTH = (os.environ[\"NEO4J_USER_NAME\"], os.environ[\"NEO4J_PASSWD\"])"
   ]
  },
  {
   "cell_type": "code",
   "execution_count": 31,
   "id": "aa51f87b-99b0-460f-84e6-73a5df22a1be",
   "metadata": {},
   "outputs": [],
   "source": [
    "# Neo4J connect and Query Boilerplate\n",
    "\n",
    "class Neo4jConnection:\n",
    "    def __init__(self, uri, user, pwd):\n",
    "        self.__uri = uri\n",
    "        self.__user = user\n",
    "        self.__pwd = pwd\n",
    "        self.__driver = None\n",
    "        try:\n",
    "            self.__driver = GraphDatabase.driver(self.__uri, auth=(self.__user, self.__pwd))\n",
    "        except Exception as e:\n",
    "            print(\"Failed to create the driver:\", e)\n",
    "            \n",
    "    def close(self):\n",
    "        if self.__driver is not None:\n",
    "            self.__driver.close()\n",
    "            \n",
    "    def query(self, query, parameters=None, db=None):\n",
    "        assert self.__driver is not None, \"Driver not initialized!\"\n",
    "        session = None\n",
    "        response = None\n",
    "        try: \n",
    "            session = self.__driver.session(database=db) if db is not None else self.__driver.session() \n",
    "            #response = (session.run(query, parameters))\n",
    "            response = list(session.run(query, parameters))\n",
    "        except Exception as e:\n",
    "            print(\"Query failed:\", e)\n",
    "        finally: \n",
    "            if session is not None:\n",
    "                session.close()\n",
    "        \n",
    "        #return pd.DataFrame([r.values() for r in response], columns=response.keys())\n",
    "        return response\n",
    "        \n",
    "    def multi_query(self, multi_line_query, parameters=None, db=None):\n",
    "        for li in multi_line_query.splitlines():\n",
    "                print(li)\n",
    "                result=self.query(li, parameters=None, db=None)\n",
    "                print(result)"
   ]
  },
  {
   "cell_type": "code",
   "execution_count": 32,
   "id": "b5932e46-5106-48f6-8894-717e369bcd7f",
   "metadata": {},
   "outputs": [
    {
     "name": "stdout",
     "output_type": "stream",
     "text": [
      "[<Record count(n)=0>]\n"
     ]
    }
   ],
   "source": [
    "# Make a default connection and it should return `[<Record count(n)=0>]`for empty database\n",
    "conn = Neo4jConnection(uri=URI, \n",
    "                       user=USER,\n",
    "                       pwd=PASSWORD)\n",
    "\n",
    "#if db is empty, then seed with init values \n",
    "res=conn.query('MATCH (n) RETURN count(n)')\n",
    "print(res)"
   ]
  },
  {
   "cell_type": "code",
   "execution_count": 6,
   "id": "ec45da12-5e16-4cfb-bb7a-18017600e114",
   "metadata": {},
   "outputs": [
    {
     "name": "stdout",
     "output_type": "stream",
     "text": [
      "Query failed: {code: Neo.ClientError.Schema.EquivalentSchemaRuleAlreadyExists} {message: An equivalent constraint already exists, 'Constraint( id=4, name='ingredient_id', type='UNIQUENESS', schema=(:Ingredient {itemID}), ownedIndex=3 )'.}\n",
      "Executed successfully: CREATE CONSTRAINT ingredient_id FOR (ing:Ingredient) REQUIRE ing.itemID IS UNIQUE;\n",
      "Executed successfully: CALL db.awaitIndexes();\n"
     ]
    }
   ],
   "source": [
    "# Set the constraint so that nodes with same IDs are merged\n",
    "# This is to be done for each node types present\n",
    "# NOTE: THIS NEEDS TO BE EXECUTED ONLY ONCE PER DATABASE\n",
    "constraint_queries =[\n",
    "\"CREATE CONSTRAINT ingredient_id FOR (ing:Ingredient) REQUIRE ing.itemID IS UNIQUE;\",\n",
    "\"CALL db.awaitIndexes();\"\n",
    "]\n",
    "\n",
    "for cquery in constraint_queries:\n",
    "    try:\n",
    "        res = conn.query(cquery)\n",
    "        print(f\"Executed successfully: {cquery}\")\n",
    "    except Exception as e:\n",
    "        print(f\"Error executing query: {cquery}\\n{e}\")"
   ]
  },
  {
   "cell_type": "code",
   "execution_count": 33,
   "id": "bcc7236f-b5df-4754-8af5-27432a6a3ef2",
   "metadata": {},
   "outputs": [],
   "source": [
    "# Query to load the nodes\n",
    "load_ingredients = \"\"\"CALL apoc.periodic.iterate(\"CALL apoc.load.csv('/nodes/ingredient_nodes.csv') yield map as row\", \n",
    "\"MERGE (ing:Ingredient {itemID: row.id}) \n",
    "ON CREATE SET ing.name = row.name, ing.category = row.category, ing.add_info = row.ing_info\", \n",
    "{batchSize:1000, iterateList:true, parallel:true})\"\"\"\n",
    "\n",
    "\n",
    "# ------ NOTE: Breakdown of query elements -------\n",
    "# apoc.periodic.iterate - internal neo4j library to help load data in batches\n",
    "# {batchSize:1000, iterateList:true, parallel:true} - parameters to load data in parallel\n",
    "# '/nodes/ingredient_nodes.csv' - path of the file from neo4j_raw_data folder as this folder is mounted in docker\n",
    "# (ing:Ingredient {itemID: row.id}) - Ingredient:Node type, ing:variable, itemID:node property, row:csv file variable, row.id:id is the csv column name\n",
    "# ing.name = row.name - name column in csv file is set as name property for nodes where ing is the node variable\n"
   ]
  },
  {
   "cell_type": "code",
   "execution_count": 34,
   "id": "a41a85ea-78f2-489a-80f9-9b2cf96ad18f",
   "metadata": {},
   "outputs": [
    {
     "name": "stdout",
     "output_type": "stream",
     "text": [
      "Ingredient nodes loaded. Time taken:0 seconds. Committed Operations: 11. Failed Operations:0\n"
     ]
    }
   ],
   "source": [
    "# Run the query to ingest the nodes to neo4j\n",
    "res_pipeline=conn.query(load_ingredients)\n",
    "print(\"Ingredient nodes loaded. Time taken:\" + str(res_pipeline[0][2]) + ' seconds. Committed Operations: ' + str(res_pipeline[0][3]) + '. Failed Operations:' + str(res_pipeline[0][4]))\n",
    "\n",
    "# NOTE: If you see failed operations, just execute the same cell again and again untill all operations are successful."
   ]
  },
  {
   "cell_type": "code",
   "execution_count": 35,
   "id": "b046b5a6-3342-4e49-8f45-f99e456ce13f",
   "metadata": {},
   "outputs": [],
   "source": [
    "# Query to load the relationships and set properties for relationships\n",
    "load_ing_subs=\"\"\"\n",
    "CALL apoc.periodic.iterate(\"CALL apoc.load.csv('/relationships/pairs.csv') yield map as row\", \n",
    "\"MATCH (ing1:Ingredient {itemID: row.src_id})\n",
    "MATCH (ing2:Ingredient {itemID: row.target_id})\n",
    "MERGE (ing1)-[rel:hasSubstitute]->(ing2)\n",
    "SET rel.source = row.source, \n",
    "    rel.prop1 = row.some_prop\", \n",
    "{batchSize:10000, iterateList:true, parallel:true})\n",
    "\"\"\""
   ]
  },
  {
   "cell_type": "code",
   "execution_count": 36,
   "id": "41bf009d-38d6-432f-a834-b13e9692f0da",
   "metadata": {},
   "outputs": [
    {
     "name": "stdout",
     "output_type": "stream",
     "text": [
      "Relationships loaded. Time taken:0 seconds. Committed Operations: 9. Failed Operations:0\n"
     ]
    }
   ],
   "source": [
    "# Run the query to ingest the relationships to neo4j\n",
    "res_pipeline=conn.query(load_ing_subs)\n",
    "print(\"Relationships loaded. Time taken:\" + str(res_pipeline[0][2]) + ' seconds. Committed Operations: ' + str(res_pipeline[0][3]) + '. Failed Operations:' + str(res_pipeline[0][4]))\n"
   ]
  },
  {
   "cell_type": "code",
   "execution_count": 37,
   "id": "dfd09e4c-6889-4050-af2c-a5298f69cc0d",
   "metadata": {},
   "outputs": [
    {
     "name": "stdout",
     "output_type": "stream",
     "text": [
      "{'8599098409': {'category': 'Vegetables and Vegetable Products', 'itemID': '8599098409', 'name': 'amaranth greens', 'add_info': 'https://fdc.nal.usda.gov/food-details/168385/nutrients'}, '4948256787': {'category': 'Vegetables and Vegetable Products', 'itemID': '4948256787', 'name': 'beet greens', 'add_info': 'https://fdc.nal.usda.gov/food-details/170375/nutrients'}, '7418228164': {'category': 'Vegetables and Vegetable Products', 'itemID': '7418228164', 'name': 'turnip greens', 'add_info': 'https://fdc.nal.usda.gov/food-details/170061/nutrients'}, '3273737018': {'category': 'Vegetables and Vegetable Products', 'itemID': '3273737018', 'name': 'kale', 'add_info': 'https://fdc.nal.usda.gov/food-details/168421/nutrients'}, '1588096030': {'category': 'nan', 'itemID': '1588096030', 'name': 'sorrel', 'add_info': 'nan'}, '1202552441': {'category': 'Legumes and Legume Products', 'itemID': '1202552441', 'name': 'tofu', 'add_info': 'https://fdc.nal.usda.gov/food-details/174291/nutrients'}, '2764321390': {'category': 'Poultry Products', 'itemID': '2764321390', 'name': 'turkey', 'add_info': 'https://fdc.nal.usda.gov/food-details/2514747/nutrients'}, '8046463833': {'category': 'Vegetables and Vegetable Products', 'itemID': '8046463833', 'name': 'potato', 'add_info': 'https://fdc.nal.usda.gov/food-details/2346403/nutrients'}, '2025105961': {'category': 'Soy and meat-alternative products', 'itemID': '2025105961', 'name': 'seitan', 'add_info': 'https://fdc.nal.usda.gov/food-details/2709163/nutrients'}, '8672494354': {'category': 'Vegetables and Vegetable Products', 'itemID': '8672494354', 'name': 'spinach', 'add_info': 'https://fdc.nal.usda.gov/food-details/1999633/nutrients'}, '988231270': {'category': 'Poultry Products', 'itemID': '988231270', 'name': 'chicken', 'add_info': 'https://fdc.nal.usda.gov/food-details/2646170/nutrients'}}\n",
      "Embeddings loaded\n"
     ]
    }
   ],
   "source": [
    "# To load image embeddings into nodes\n",
    "\n",
    "# Helper functions\n",
    "def convert_to_json(result):\n",
    "    data_dict = {}\n",
    "    for item in result:\n",
    "        curr_dict = dict(item[0])\n",
    "        item_id = curr_dict['itemID']\n",
    "        data_dict[item_id] = curr_dict\n",
    "    return data_dict\n",
    "    \n",
    "# 1. Get all the nodes\n",
    "query_str = \"\"\"MATCH (n:Ingredient) return properties(n)\"\"\"\n",
    "\n",
    "# 2. Execute the query\n",
    "response = conn.query(query_str)\n",
    "\n",
    "# 3. Convert to json for processing\n",
    "json_res = convert_to_json(response)\n",
    "print(json_res)\n",
    "\n",
    "# 4. Create embeddings for each item in the dict. We need the itemID to load the embeddings to those nodes\n",
    "for itemID in json_res:\n",
    "    # creating a random embedding, replace with your actual embedding\n",
    "    embedding = [random.gauss(0, 1) for _ in range(300)]\n",
    "    # convert this to a retrievable string, as it is one of the best formats to load to Neo4j\n",
    "    serialized_embed = json.dumps(embedding)\n",
    "    # Load it to Neo4j\n",
    "    update_query = \"\"\"MERGE (ing:Ingredient {itemID: $id})\n",
    "                      SET ing.embedding = $embed\"\"\"\n",
    "    parameters = {'id':itemID, 'embed':serialized_embed}\n",
    "    res = conn.query(update_query, parameters)\n",
    "\n",
    "print(\"\\nEmbeddings loaded\")\n",
    "\n",
    "# To query embedding and convert it back,\n",
    "for itemID in json_res:\n",
    "    query_str = \"\"\"MATCH (n:Ingredient {itemID:$id}) RETURN n.embedding\"\"\"\n",
    "    parameters = {'id': itemID}\n",
    "    res = conn.query(query_str, parameters)\n",
    "    embedding = json.loads(res[0]['n.embedding'])\n",
    "    # Convert to torch or numpy to do whatever you need to do\n",
    "\n",
    "    \n",
    "    "
   ]
  }
 ],
 "metadata": {
  "kernelspec": {
   "display_name": "Python 3 (ipykernel)",
   "language": "python",
   "name": "python3"
  },
  "language_info": {
   "codemirror_mode": {
    "name": "ipython",
    "version": 3
   },
   "file_extension": ".py",
   "mimetype": "text/x-python",
   "name": "python",
   "nbconvert_exporter": "python",
   "pygments_lexer": "ipython3",
   "version": "3.11.6"
  }
 },
 "nbformat": 4,
 "nbformat_minor": 5
}
